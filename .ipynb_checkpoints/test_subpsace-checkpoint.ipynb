{
 "cells": [
  {
   "cell_type": "code",
   "execution_count": 2,
   "metadata": {
    "collapsed": true
   },
   "outputs": [],
   "source": [
    "import numpy as np\n",
    "import scipy.linalg as linalg\n",
    "from JSAnimation import IPython_display\n",
    "import matplotlib.pyplot as plt\n",
    "from matplotlib import animation\n",
    "from multiprocessing import Pool, Manager, Process,TimeoutError\n",
    "import time\n",
    "import os"
   ]
  },
  {
   "cell_type": "code",
   "execution_count": 3,
   "metadata": {
    "collapsed": true
   },
   "outputs": [],
   "source": [
    "def generate_artificial_flow(size,p,T,omega):\n",
    "    v_x,v_y = np.zeros(size),np.zeros(size);\n",
    "    for x in range(size[0]):\n",
    "        for y in range(size[1]):\n",
    "            A = np.array([[-f,0,x],[0,-f,y]])\n",
    "            B = np.array([[(x*y)/f, -(f + (x*x)/f), y],[f + (y*y)/f, -(x*y)/f, -x]])\n",
    "            v_x[x,y],v_y[x,y] = np.dot(A,T)/p[x,y] + np.dot(B,omega)\n",
    "    return v_x, v_y\n",
    "    "
   ]
  },
  {
   "cell_type": "code",
   "execution_count": 4,
   "metadata": {
    "collapsed": true
   },
   "outputs": [],
   "source": [
    "def sample_T(): #to get a systematic number of T's (use for ||n later)\n",
    "    for theta in np.arange(0,np.pi,0.01):\n",
    "        for phi in np.arange(0,np.pi,0.01):\n",
    "            x = np.cos(theta)*np.sin(phi)\n",
    "            y = np.sin(theta)*np.sin(phi)\n",
    "            z = np.cos(phi)\n",
    "    return np.array([[x],[y],[z]])\n",
    "\n",
    "def calculate_perp_CT(sample_points, T): #input the presampled sample points - can be precalculated\n",
    "    N = np.shape(sample_points)[0]; #justincase\n",
    "    A_T = np.zeros([2*N,N]) #preallocate ndarrays for storing the matrices\n",
    "    B = np.zeros([2*N,3])\n",
    "    \n",
    "    for i in np.arange(0,N,1):\n",
    "        x,y = sample_points[i,0],sample_points[i,1]\n",
    "        \n",
    "        #calculating A_T\n",
    "        A = np.array([[-f,0,x],[0,-f,y]])\n",
    "        AtimesT = np.dot(A,T)\n",
    "        A_T[2*i,i], A_T[2*i+1,i] = AtimesT[0], AtimesT[1]\n",
    "        \n",
    "        #calculating B\n",
    "        B[2*i] = np.array([(x*y)/f, -(f + (x*x)/f), y])\n",
    "        B[2*i+1] = np.array([f + (y*y)/f, -(x*y)/f, -x])\n",
    "    return linalg.orth(np.concatenate((A_T,B),axis=1))\n",
    "\n",
    "def calculate_ET(sample_points):\n",
    "    N = np.shape(sample_points)[0];\n",
    "    search_range = np.arange(0,np.pi,0.01)\n",
    "    pool = Pool(CPU_NUMBER)\n",
    "    \n",
    "    def foo(T):\n",
    "        return(calculate_perp_CT(sample_points,T))\n",
    "    \n",
    "    ET = pool.map(foo,search_range)\n",
    "    pool.close()\n",
    "    pool.join()"
   ]
  },
  {
   "cell_type": "code",
   "execution_count": 5,
   "metadata": {},
   "outputs": [],
   "source": [
    "size = (100,100)\n",
    "p = np.zeros(size) + 45\n",
    "p[:,30:40] = p[:,80:90] = 15\n",
    "p[45:55,45:55] = 30\n",
    "p[26:39,56:69] = 40\n",
    "p[53:76,53:76] = 20\n",
    "T = np.array([[0],[1],[0]])\n",
    "omega = np.array([[0],[0],[0]])\n",
    "f = 15\n",
    "\n",
    "v_x,v_y = generate_artificial_flow(size,p,T,omega)"
   ]
  },
  {
   "cell_type": "markdown",
   "metadata": {},
   "source": [
    "# উলটো আসছে কেন মেট্রিক্স টা একবার তা দেখা উচিৎ "
   ]
  },
  {
   "cell_type": "code",
   "execution_count": 6,
   "metadata": {},
   "outputs": [
    {
     "data": {
      "text/plain": [
       "<matplotlib.text.Text at 0x106913080>"
      ]
     },
     "execution_count": 6,
     "metadata": {},
     "output_type": "execute_result"
    },
    {
     "data": {
      "image/png": "[encoded data removed]",
      "text/plain": [
       "<matplotlib.figure.Figure at 0x106834908>"
      ]
     },
     "metadata": {},
     "output_type": "display_data"
    }
   ],
   "source": [
    "%matplotlib inline\n",
    "fig = plt.figure()\n",
    "ax = fig.add_subplot(1,1,1)\n",
    "ax.set_xlabel('theta')\n",
    "ax.set_ylabel('phi')\n",
    "im = ax.imshow(p, cmap=\"jet\")\n",
    "fig.colorbar(im)\n",
    "ax.set_title('Residual function values')"
   ]
  },
  {
   "cell_type": "code",
   "execution_count": 7,
   "metadata": {},
   "outputs": [
    {
     "data": {
      "text/plain": [
       "<matplotlib.text.Text at 0x106cfe390>"
      ]
     },
     "execution_count": 7,
     "metadata": {},
     "output_type": "execute_result"
    },
    {
     "data": {
      "image/png": "[encoded data removed]",
      "text/plain": [
       "<matplotlib.figure.Figure at 0x106927780>"
      ]
     },
     "metadata": {},
     "output_type": "display_data"
    }
   ],
   "source": [
    "%matplotlib inline\n",
    "fig = plt.figure()\n",
    "ax = fig.add_subplot(1,1,1)\n",
    "ax.set_xlabel('theta')\n",
    "ax.set_ylabel('phi')\n",
    "im = ax.imshow(v_y, cmap=\"jet\")\n",
    "fig.colorbar(im)\n",
    "ax.set_title('Residual function values')"
   ]
  },
  {
   "cell_type": "code",
   "execution_count": null,
   "metadata": {},
   "outputs": [],
   "source": [
    "v_y[40,15]"
   ]
  },
  {
   "cell_type": "markdown",
   "metadata": {},
   "source": [
    "এই অবধি মনে হয়ে ঠিক চলছে - এর পরে একবার দুটো বা তিনটে পয়েন্ট নিয়ে কাজ করা যেতে পারে $\\ldots$ \n",
    "\n",
    "Selected points : `[40,15], [80,60]` Value of p is 45 for both cases, as given below"
   ]
  },
  {
   "cell_type": "code",
   "execution_count": null,
   "metadata": {},
   "outputs": [],
   "source": [
    "p[40,15], p[80,60]"
   ]
  },
  {
   "cell_type": "code",
   "execution_count": null,
   "metadata": {},
   "outputs": [],
   "source": [
    "#sanity check for precalculated and recalculated values \n",
    "\n",
    "#40,15 \n",
    "x,y = 40,15\n",
    "A = np.array([[-f,0,x],[0,-f,y]])\n",
    "B = np.array([[(x*y)/f, -(f + (x*x)/f), y],[f + (y*y)/f, -(x*y)/f, -x]])\n",
    "v_x,v_y = np.dot(A,T)/p[x,y] + np.dot(B,omega)\n",
    "\n",
    "print(v_x,v_y)\n",
    "\n",
    "#80,60\n",
    "x,y = 80,60\n",
    "A = np.array([[-f,0,x],[0,-f,y]])\n",
    "B = np.array([[(x*y)/f, -(f + (x*x)/f), y],[f + (y*y)/f, -(x*y)/f, -x]])\n",
    "v_x,v_y = np.dot(A,T)/p[x,y] + np.dot(B,omega)\n",
    "\n",
    "print(v_x,v_y)\n",
    "\n",
    "#sanity check passed"
   ]
  },
  {
   "cell_type": "code",
   "execution_count": null,
   "metadata": {
    "collapsed": true
   },
   "outputs": [],
   "source": [
    "def calculate_CT_estimate(sample_points, T): #input the presampled sample points - can be precalculated\n",
    "    N = np.shape(sample_points)[0]; #justincase\n",
    "    A_T = np.zeros([2*N,N]) #preallocate ndarrays for storing the matrices\n",
    "    B = np.zeros([2*N,3])\n",
    "    \n",
    "    for i in np.arange(0,N,1):\n",
    "        x,y = sample_points[i,0],sample_points[i,1]\n",
    "        \n",
    "        #calculating A_T\n",
    "        A = np.array([[-f,0,x],[0,-f,y]])\n",
    "        AtimesT = np.dot(A,T)\n",
    "        A_T[2*i,i], A_T[2*i+1,i] = AtimesT[0], AtimesT[1]\n",
    "        \n",
    "        #calculating B\n",
    "        B[2*i] = np.array([(x*y)/f, -(f + (x*x)/f), y])\n",
    "        B[2*i+1] = np.array([f + (y*y)/f, -(x*y)/f, -x])\n",
    "    return np.concatenate((A_T,B),axis=1)\n",
    "\n",
    "def calculate_q(sample_points, omega, p):\n",
    "    depths = np.transpose([p[sample_points[:,0],sample_points[:,1]]])\n",
    "    return np.vstack((depths,omega))"
   ]
  },
  {
   "cell_type": "code",
   "execution_count": null,
   "metadata": {},
   "outputs": [],
   "source": [
    "CT = calculate_CT_estimate([[40,15],[80,60]], T)\n",
    "q = calculate_q([[40,15],[80,60]],omega,[45,45])"
   ]
  },
  {
   "cell_type": "code",
   "execution_count": null,
   "metadata": {},
   "outputs": [],
   "source": [
    "%%time\n",
    "x_lim = size[0]\n",
    "y_lim = size[1]\n",
    "N = 10 #number of random points\n",
    "f = 15 #focal length\n",
    "search_range = np.arange(0,np.pi,0.01)\n",
    "E = np.zeros((np.size(search_range),np.size(search_range)))"
   ]
  },
  {
   "cell_type": "code",
   "execution_count": null,
   "metadata": {},
   "outputs": [],
   "source": [
    "x_lim = size[0]\n",
    "y_lim = size[1]\n",
    "N = 10 #number of random points\n",
    "f = 15 #focal length\n",
    "search_range = np.arange(0,np.pi,0.01)\n",
    "E = np.zeros((np.size(search_range),np.size(search_range)))\n",
    "\n",
    "sample_points = np.transpose([np.random.randint(1,20,size=N),np.random.randint(1,20,size=N)])\n",
    "sample_v_x, sample_v_y = v_x[sample_points[:,0],sample_points[:,1]], v_y[sample_points[:,0],sample_points[:,1]]\n"
   ]
  },
  {
   "cell_type": "code",
   "execution_count": null,
   "metadata": {},
   "outputs": [],
   "source": [
    "sample_v_x, sample_v_y, sample_points\n"
   ]
  },
  {
   "cell_type": "code",
   "execution_count": null,
   "metadata": {
    "collapsed": true
   },
   "outputs": [],
   "source": [
    "def calculate_CT_estimate(sample_points, T): #input the presampled sample points - can be precalculated\n",
    "    N = np.shape(sample_points)[0]; #justincase\n",
    "    A_T = np.zeros([2*N,N]) #preallocate ndarrays for storing the matrices\n",
    "    B = np.zeros([2*N,3])\n",
    "    \n",
    "    for i in np.arange(0,N,1):\n",
    "        x,y = sample_points[i,0],sample_points[i,1]\n",
    "        \n",
    "        #calculating A_T\n",
    "        A = np.array([[-f,0,x],[0,-f,y]])\n",
    "        AtimesT = np.dot(A,T)\n",
    "        A_T[2*i,i], A_T[2*i+1,i] = AtimesT[0], AtimesT[1]\n",
    "        \n",
    "        #calculating B\n",
    "        B[2*i] = np.array([(x*y)/f, -(f + (x*x)/f), y])\n",
    "        B[2*i+1] = np.array([f + (y*y)/f, -(x*y)/f, -x])\n",
    "    return np.concatenate((A_T,B),axis=1)\n",
    "\n",
    "def calculate_q(sample_points, omega, p):\n",
    "    depths = np.transpose([p[sample_points[:,0],sample_points[:,1]]])\n",
    "    return np.vstack((depths,omega))\n",
    "    \n",
    "    "
   ]
  },
  {
   "cell_type": "code",
   "execution_count": null,
   "metadata": {
    "collapsed": true
   },
   "outputs": [],
   "source": [
    "test = np.array([[40,15],[80,60]])\n",
    "CT = calculate_CT_estimate(test, T)\n",
    "q = calculate_q(test,omega,p)"
   ]
  },
  {
   "cell_type": "code",
   "execution_count": null,
   "metadata": {},
   "outputs": [],
   "source": [
    "q[:-3] = 1/q[:-3]"
   ]
  },
  {
   "cell_type": "code",
   "execution_count": null,
   "metadata": {},
   "outputs": [],
   "source": [
    "np.vstack((sample_v_x,sample_v_y)).reshape(-1,order='F')"
   ]
  },
  {
   "cell_type": "code",
   "execution_count": null,
   "metadata": {},
   "outputs": [],
   "source": [
    "v_t = np.vstack(p[sample_points[:,0],sample_points[:,1]],omega)).reshape((-1),order='F').reshape(1,2*N) #v is concat of all sample point vels "
   ]
  },
  {
   "cell_type": "code",
   "execution_count": null,
   "metadata": {},
   "outputs": [],
   "source": [
    "CT = calculate_CT_estimate(sample_points, T)\n",
    "q = calculate_q(sample_points,omega,p)\n",
    "E_T = (np.linalg.norm(np.dot(v_t,perp_CT)))**2\n",
    "E[idtheta,idphi] = E_T"
   ]
  },
  {
   "cell_type": "code",
   "execution_count": null,
   "metadata": {},
   "outputs": [],
   "source": [
    "%%time\n",
    "for idtheta,theta in enumerate(list(search_range)):\n",
    "    for idphi,phi in enumerate(list(search_range)):\n",
    "        x = np.cos(theta)*np.sin(phi)\n",
    "        y = np.sin(theta)*np.sin(phi)\n",
    "        z = np.cos(phi)\n",
    "        T = np.array([[x],[y],[z]])\n",
    "\n",
    "        perp_CT = calculate_perp_CT(sample_points, T)\n",
    "        v_t = np.vstack((sample_v_x,sample_v_y)).reshape((-1),order='F').reshape(1,2*N) #v is concat of all sample point vels \n",
    "        E_T = (np.linalg.norm(np.dot(v_t,perp_CT)))**2\n",
    "        E[idtheta,idphi] = E_T\n",
    "\n",
    "theta, phi = np.unravel_index(E.argmin(), E.shape)\n",
    "x_final = np.cos(theta)*np.sin(phi)\n",
    "y_final = np.sin(theta)*np.sin(phi)\n",
    "z_final = np.cos(phi)\n",
    "T_final = np.array([[x],[y],[z]])\n",
    "print(T)"
   ]
  },
  {
   "cell_type": "code",
   "execution_count": null,
   "metadata": {},
   "outputs": [],
   "source": [
    "print(E.min())"
   ]
  },
  {
   "cell_type": "code",
   "execution_count": null,
   "metadata": {},
   "outputs": [],
   "source": [
    "#plotting residual surfaces\n",
    "%matplotlib inline\n",
    "fig = plt.figure()\n",
    "ax = fig.add_subplot(1,1,1)\n",
    "ax.set_xlabel('theta')\n",
    "ax.set_ylabel('phi')\n",
    "im = ax.imshow(E, cmap=\"jet\")\n",
    "fig.colorbar(im)\n",
    "ax.set_title('Residual function values')"
   ]
  },
  {
   "cell_type": "code",
   "execution_count": null,
   "metadata": {
    "collapsed": true
   },
   "outputs": [],
   "source": []
  },
  {
   "cell_type": "code",
   "execution_count": null,
   "metadata": {
    "collapsed": true
   },
   "outputs": [],
   "source": []
  }
 ],
 "metadata": {
  "kernelspec": {
   "display_name": "Python 3",
   "language": "python",
   "name": "python3"
  },
  "language_info": {
   "codemirror_mode": {
    "name": "ipython",
    "version": 3
   },
   "file_extension": ".py",
   "mimetype": "text/x-python",
   "name": "python",
   "nbconvert_exporter": "python",
   "pygments_lexer": "ipython3",
   "version": "3.5.2"
  }
 },
 "nbformat": 4,
 "nbformat_minor": 2
}
