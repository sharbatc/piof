{
 "cells": [
  {
   "cell_type": "code",
   "execution_count": 1,
   "metadata": {
    "collapsed": true
   },
   "outputs": [],
   "source": [
    "import numpy as np\n",
    "import scipy.linalg as linalg\n",
    "from JSAnimation import IPython_display\n",
    "import matplotlib.pyplot as plt\n",
    "from matplotlib import animation\n",
    "from multiprocessing import Pool, Manager, Process,TimeoutError\n",
    "import time\n",
    "import os"
   ]
  },
  {
   "cell_type": "code",
   "execution_count": 2,
   "metadata": {
    "collapsed": true
   },
   "outputs": [],
   "source": [
    "def generate_artificial_flow(size,p,T,omega):\n",
    "    v_x,v_y = np.zeros(size),np.zeros(size);\n",
    "    for x in range(size[0]):\n",
    "        for y in range(size[1]):\n",
    "            A = np.array([[-f,0,x],[0,-f,y]])\n",
    "            B = np.array([[(x*y)/f, -(f + (x*x)/f), y],[f + (y*y)/f, -(x*y)/f, -x]])\n",
    "            v_x[x,y],v_y[x,y] = np.dot(A,T)/p[x,y] + np.dot(B,omega)\n",
    "    return v_x, v_y\n",
    "    "
   ]
  },
  {
   "cell_type": "code",
   "execution_count": 3,
   "metadata": {
    "collapsed": true
   },
   "outputs": [],
   "source": [
    "def sample_T(): #to get a systematic number of T's (use for ||n later)\n",
    "    for theta in np.arange(0,np.pi,0.01):\n",
    "        for phi in np.arange(0,np.pi,0.01):\n",
    "            x = np.cos(theta)*np.sin(phi)\n",
    "            y = np.sin(theta)*np.sin(phi)\n",
    "            z = np.cos(phi)\n",
    "    return np.array([[x],[y],[z]])\n",
    "\n",
    "def calculate_perp_CT(sample_points, T): #input the presampled sample points - can be precalculated\n",
    "    N = np.shape(sample_points)[0]; #justincase\n",
    "    A_T = np.zeros([2*N,N]) #preallocate ndarrays for storing the matrices\n",
    "    B = np.zeros([2*N,3])\n",
    "    \n",
    "    for i in np.arange(0,N,1):\n",
    "        x,y = sample_points[i,0],sample_points[i,1]\n",
    "        \n",
    "        #calculating A_T\n",
    "        A = np.array([[-f,0,x],[0,-f,y]])\n",
    "        AtimesT = np.dot(A,T)\n",
    "        A_T[2*i,i], A_T[2*i+1,i] = AtimesT[0], AtimesT[1]\n",
    "        \n",
    "        #calculating B\n",
    "        B[2*i] = np.array([(x*y)/f, -(f + (x*x)/f), y])\n",
    "        B[2*i+1] = np.array([f + (y*y)/f, -(x*y)/f, -x])\n",
    "    return linalg.orth(np.concatenate((A_T,B),axis=1))\n",
    "\n",
    "def calculate_ET(sample_points):\n",
    "    N = np.shape(sample_points)[0];\n",
    "    search_range = np.arange(0,np.pi,0.01)\n",
    "    pool = Pool(CPU_NUMBER)\n",
    "    \n",
    "    def foo(T):\n",
    "        return(calculate_perp_CT(sample_points,T))\n",
    "    \n",
    "    ET = pool.map(foo,search_range)\n",
    "    pool.close()\n",
    "    pool.join()"
   ]
  },
  {
   "cell_type": "code",
   "execution_count": 4,
   "metadata": {},
   "outputs": [],
   "source": [
    "size = (100,100)\n",
    "p = np.zeros(size) + 0.05\n",
    "T = np.array([[0],[1],[0]])\n",
    "omega = np.array([[0],[0],[0]])\n",
    "f = 30\n",
    "\n",
    "v_x,v_y = generate_artificial_flow(size,p,T,omega)"
   ]
  },
  {
   "cell_type": "code",
   "execution_count": 5,
   "metadata": {},
   "outputs": [
    {
     "data": {
      "text/plain": [
       "(array([[ 0.,  0.,  0., ...,  0.,  0.,  0.],\n",
       "        [ 0.,  0.,  0., ...,  0.,  0.,  0.],\n",
       "        [ 0.,  0.,  0., ...,  0.,  0.,  0.],\n",
       "        ..., \n",
       "        [ 0.,  0.,  0., ...,  0.,  0.,  0.],\n",
       "        [ 0.,  0.,  0., ...,  0.,  0.,  0.],\n",
       "        [ 0.,  0.,  0., ...,  0.,  0.,  0.]]),\n",
       " array([[-600., -600., -600., ..., -600., -600., -600.],\n",
       "        [-600., -600., -600., ..., -600., -600., -600.],\n",
       "        [-600., -600., -600., ..., -600., -600., -600.],\n",
       "        ..., \n",
       "        [-600., -600., -600., ..., -600., -600., -600.],\n",
       "        [-600., -600., -600., ..., -600., -600., -600.],\n",
       "        [-600., -600., -600., ..., -600., -600., -600.]]))"
      ]
     },
     "execution_count": 5,
     "metadata": {},
     "output_type": "execute_result"
    }
   ],
   "source": [
    "v_x, v_y"
   ]
  },
  {
   "cell_type": "code",
   "execution_count": 6,
   "metadata": {},
   "outputs": [
    {
     "name": "stdout",
     "output_type": "stream",
     "text": [
      "CPU times: user 0 ns, sys: 0 ns, total: 0 ns\n",
      "Wall time: 190 µs\n"
     ]
    }
   ],
   "source": [
    "%%time\n",
    "x_lim = size[0]\n",
    "y_lim = size[1]\n",
    "N = 10 #number of random points\n",
    "f = 30 #focal length\n",
    "search_range = np.arange(0,np.pi,0.01)\n",
    "E = np.zeros((np.size(search_range),np.size(search_range)))"
   ]
  },
  {
   "cell_type": "code",
   "execution_count": 7,
   "metadata": {},
   "outputs": [],
   "source": [
    "x_lim = size[0]\n",
    "y_lim = size[1]\n",
    "N = 10 #number of random points\n",
    "f = 30 #focal length\n",
    "search_range = np.arange(0,np.pi,0.01)\n",
    "E = np.zeros((np.size(search_range),np.size(search_range)))\n",
    "\n",
    "sample_points = np.transpose([np.random.randint(0,size[0],size=N),np.random.randint(0,size[1],size=N)])\n",
    "sample_v_x, sample_v_y = v_x[sample_points[:,0],sample_points[:,1]], v_y[sample_points[:,0],sample_points[:,1]]\n"
   ]
  },
  {
   "cell_type": "code",
   "execution_count": 8,
   "metadata": {},
   "outputs": [
    {
     "data": {
      "text/plain": [
       "(array([ 0.,  0.,  0.,  0.,  0.,  0.,  0.,  0.,  0.,  0.]),\n",
       " array([-600., -600., -600., -600., -600., -600., -600., -600., -600., -600.]))"
      ]
     },
     "execution_count": 8,
     "metadata": {},
     "output_type": "execute_result"
    }
   ],
   "source": [
    "sample_v_x, sample_v_y\n"
   ]
  },
  {
   "cell_type": "code",
   "execution_count": 9,
   "metadata": {},
   "outputs": [
    {
     "name": "stdout",
     "output_type": "stream",
     "text": [
      "[[ -1.59265090e-03]\n",
      " [  2.53654331e-06]\n",
      " [ -9.99998732e-01]]\n",
      "CPU times: user 2min 7s, sys: 848 ms, total: 2min 7s\n",
      "Wall time: 31.9 s\n"
     ]
    }
   ],
   "source": [
    "%%time\n",
    "for idtheta,theta in enumerate(list(search_range)):\n",
    "    for idphi,phi in enumerate(list(search_range)):\n",
    "        x = np.cos(theta)*np.sin(phi)\n",
    "        y = np.sin(theta)*np.sin(phi)\n",
    "        z = np.cos(phi)\n",
    "        T = np.array([[x],[y],[z]])\n",
    "\n",
    "        perp_CT = calculate_perp_CT(sample_points, T)\n",
    "        v_t = np.vstack((sample_v_x,sample_v_y)).reshape((-1),order='F').reshape(1,2*N) #v is concat of all sample point vels \n",
    "        E_T = (np.linalg.norm(np.dot(v_t,perp_CT)))**2\n",
    "        E[idtheta,idphi] = E_T\n",
    "\n",
    "theta, phi = np.unravel_index(E.argmin(), E.shape)\n",
    "x_final = np.cos(theta)*np.sin(phi)\n",
    "y_final = np.sin(theta)*np.sin(phi)\n",
    "z_final = np.cos(phi)\n",
    "T_final = np.array([[x],[y],[z]])\n",
    "print(T)"
   ]
  },
  {
   "cell_type": "code",
   "execution_count": 10,
   "metadata": {},
   "outputs": [
    {
     "name": "stdout",
     "output_type": "stream",
     "text": [
      "2918626.9127\n"
     ]
    }
   ],
   "source": [
    "print(E.min())"
   ]
  },
  {
   "cell_type": "code",
   "execution_count": 11,
   "metadata": {},
   "outputs": [
    {
     "data": {
      "text/plain": [
       "<matplotlib.text.Text at 0x7f9481987ba8>"
      ]
     },
     "execution_count": 11,
     "metadata": {},
     "output_type": "execute_result"
    },
    {
     "data": {
      "image/png": "[encoded data removed]",
      "text/plain": [
       "<matplotlib.figure.Figure at 0x7f9484db78d0>"
      ]
     },
     "metadata": {},
     "output_type": "display_data"
    }
   ],
   "source": [
    "#plotting residual surfaces\n",
    "%matplotlib inline\n",
    "fig = plt.figure()\n",
    "ax = fig.add_subplot(1,1,1)\n",
    "ax.set_xlabel('theta')\n",
    "ax.set_ylabel('phi')\n",
    "im = ax.imshow(E, cmap=\"jet\")\n",
    "fig.colorbar(im)\n",
    "ax.set_title('Residual function values')"
   ]
  },
  {
   "cell_type": "code",
   "execution_count": null,
   "metadata": {
    "collapsed": true
   },
   "outputs": [],
   "source": []
  },
  {
   "cell_type": "code",
   "execution_count": null,
   "metadata": {
    "collapsed": true
   },
   "outputs": [],
   "source": []
  }
 ],
 "metadata": {
  "kernelspec": {
   "display_name": "Python 3",
   "language": "python",
   "name": "python3"
  },
  "language_info": {
   "codemirror_mode": {
    "name": "ipython",
    "version": 3
   },
   "file_extension": ".py",
   "mimetype": "text/x-python",
   "name": "python",
   "nbconvert_exporter": "python",
   "pygments_lexer": "ipython3",
   "version": "3.5.3"
  }
 },
 "nbformat": 4,
 "nbformat_minor": 2
}
