{
 "cells": [
  {
   "cell_type": "code",
   "execution_count": 256,
   "metadata": {
    "collapsed": true
   },
   "outputs": [],
   "source": [
    "import numpy as np\n",
    "import scipy.linalg as linalg\n",
    "import itertools\n",
    "from JSAnimation import IPython_display\n",
    "import matplotlib.pyplot as plt\n",
    "from matplotlib import animation\n",
    "from multiprocessing import Pool, Manager, Process,TimeoutError\n",
    "import time\n",
    "import os"
   ]
  },
  {
   "cell_type": "code",
   "execution_count": 257,
   "metadata": {
    "collapsed": true
   },
   "outputs": [],
   "source": [
    "def generate_artificial_flow(size,p,T,omega):\n",
    "    v_x,v_y = np.zeros(size),np.zeros(size);\n",
    "    for x in range(size[0]):\n",
    "        for y in range(size[1]):\n",
    "            A = np.array([[-f,0,x],[0,-f,y]])\n",
    "            B = np.array([[(x*y)/f, -(f + (x*x)/f), y],[f + (y*y)/f, -(x*y)/f, -x]])\n",
    "            v_x[x,y],v_y[x,y] = np.dot(A,T)/p[x,y] + np.dot(B,omega)\n",
    "    return v_x, v_y\n",
    "    "
   ]
  },
  {
   "cell_type": "code",
   "execution_count": 260,
   "metadata": {
    "collapsed": true
   },
   "outputs": [],
   "source": [
    "# insert a random depth-wise image that might be useful for judging the depth perception\n",
    "size = (100,100)\n",
    "p = np.zeros(size) + 45\n",
    "p[:,30:40] = p[:,80:90] = 15\n",
    "p[45:55,45:55] = 30\n",
    "p[26:39,56:69] = 40\n",
    "p[53:76,53:76] = 20\n",
    "T = np.array([[0],[1],[0]])\n",
    "omega = np.array([[0],[0],[0]])\n",
    "f = 15\n",
    "\n",
    "v_x,v_y = generate_artificial_flow(size,p,T,omega)"
   ]
  },
  {
   "cell_type": "code",
   "execution_count": 261,
   "metadata": {},
   "outputs": [
    {
     "data": {
      "image/png": "[encoded data removed]",
      "text/plain": [
       "<matplotlib.figure.Figure at 0x7f1acc2c3390>"
      ]
     },
     "metadata": {},
     "output_type": "display_data"
    }
   ],
   "source": [
    "#show the depth wise image\n",
    "%matplotlib inline\n",
    "fig = plt.figure('Depth figure')\n",
    "ax = fig.add_subplot(1,1,1)\n",
    "ax.set_xlabel('X')\n",
    "ax.set_ylabel('Y')\n",
    "im = ax.imshow(p, cmap=\"jet\", origin=\"lower\")\n",
    "fig.colorbar(im)\n",
    "ax.set_title('Actual image depth values')\n",
    "plt.savefig('figs/artificial_depth.png',bbox_inches='tight')"
   ]
  },
  {
   "cell_type": "code",
   "execution_count": 262,
   "metadata": {},
   "outputs": [
    {
     "data": {
      "text/plain": [
       "<matplotlib.text.Text at 0x7f1acc03fdd8>"
      ]
     },
     "execution_count": 262,
     "metadata": {},
     "output_type": "execute_result"
    },
    {
     "data": {
      "image/png": "[encoded data removed]",
      "text/plain": [
       "<matplotlib.figure.Figure at 0x7f1acc0fcda0>"
      ]
     },
     "metadata": {},
     "output_type": "display_data"
    }
   ],
   "source": [
    "%matplotlib inline\n",
    "fig = plt.figure()\n",
    "ax = fig.add_subplot(1,1,1)\n",
    "ax.set_xlabel('X')\n",
    "ax.set_ylabel('Y')\n",
    "im = ax.imshow(v_y, cmap=\"jet\",origin=\"lower\")\n",
    "fig.colorbar(im)\n",
    "ax.set_title('Image velocity values')"
   ]
  },
  {
   "cell_type": "markdown",
   "metadata": {},
   "source": [
    "# Calculating the estimated translation\n",
    "\n",
    "The initial used algorithm is one of many, and is one of the best and most robust according to the review written by Raudies and Neumann."
   ]
  },
  {
   "cell_type": "code",
   "execution_count": 265,
   "metadata": {
    "collapsed": true
   },
   "outputs": [],
   "source": [
    "x_lim = size[0]\n",
    "y_lim = size[1]\n",
    "N = 10 #number of random points in each patch\n",
    "f = 15 #focal length\n",
    "\n",
    "num_patches = 0\n",
    "im_patches = np.transpose([[np.random.randint(0,10,size=N),np.random.randint(0,1,size=N)]])\n",
    "for x_split in np.arange(0,x_lim,np.int(x_lim/4)):\n",
    "    for y_split in np.arange(0,y_lim,np.int(y_lim/4)):\n",
    "        sample_points = np.transpose([np.random.randint(x_split,x_split+np.int(x_lim/4),size=N),np.random.randint(y_split,y_split+np.int(y_lim/4),size=N)])\n",
    "        im_patches = np.dstack((im_patches,sample_points))\n",
    "        num_patches += 1\n",
    "im_patches = im_patches[:,:,1:]"
   ]
  },
  {
   "cell_type": "markdown",
   "metadata": {},
   "source": [
    "### Storing beforehand the values of the $C(T)$ matrix in memory for each candidate translation direction and each image patch\n",
    "\n",
    "These would need to be speedily accessed and used for different values of the speed as it begins to be available to us. "
   ]
  },
  {
   "cell_type": "code",
   "execution_count": 272,
   "metadata": {},
   "outputs": [],
   "source": [
    "def calculate_q(sample_points, omega, p):\n",
    "    depths = np.transpose([p[sample_points[:,0],sample_points[:,1]]])\n",
    "    inv_depths = 1/depths\n",
    "    return np.vstack((inv_depths,omega))\n",
    "\n",
    " \n",
    "def calculate_CT_estimate(sample_points, T): #input the presampled sample points - can be precalculated\n",
    "    N = np.shape(sample_points)[0]; #justincase\n",
    "    A_T = np.zeros([2*N,N]) #preallocate ndarrays for storing the matrices\n",
    "    B = np.zeros([2*N,3])\n",
    "    \n",
    "    for i in np.arange(0,N,1):\n",
    "        x,y = sample_points[i,0],sample_points[i,1]\n",
    "        \n",
    "        #calculating A_T\n",
    "        A = np.array([[-f,0,x],[0,-f,y]])\n",
    "        AtimesT = np.dot(A,T)\n",
    "        A_T[2*i,i], A_T[2*i+1,i] = AtimesT[0], AtimesT[1]\n",
    "        \n",
    "        #calculating B\n",
    "        B[2*i] = np.array([(x*y)/f, -(f + (x*x)/f), y])\n",
    "        B[2*i+1] = np.array([f + (y*y)/f, -(x*y)/f, -x])\n",
    "    \n",
    "    return np.concatenate((A_T,B),axis=1)\n",
    "\n",
    "def calculate_projected_CT(sample_points,T):\n",
    "    N = np.shape(sample_points)[0]; #justincase\n",
    "    CT = calculate_CT_estimate(sample_points,T)\n",
    "    CTbar, r = np.linalg.qr(CT)\n",
    "    I = np.identity(2*N)\n",
    "    cc = np.dot(CTbar,np.transpose(CTbar))\n",
    "    return (I - cc)\n",
    "\n",
    "def calculate_v(sample_points,v_x,v_y):\n",
    "    sample_v_x, sample_v_y = v_x[sample_points[:,0],sample_points[:,1]], v_y[sample_points[:,0],sample_points[:,1]]\n",
    "    v = np.vstack((sample_v_x,sample_v_y)).reshape((-1),order='F').reshape(2*N,1)\n",
    "    return v\n",
    "\n",
    "def calculate_E(patch_id,v_x,v_y): #tentative, check use of sample_points, T or using patch_no, phi, theta\n",
    "    sample_points = im_patches[:,:,patch_id]\n",
    "    search_range = np.arange(0,np.pi,0.01)\n",
    "    E = np.zeros((np.size(search_range),np.size(search_range)))\n",
    "    for idtheta,theta in enumerate(list(search_range)): #might be parallelised, but no appreciable speed up\n",
    "        for idphi,phi in enumerate(list(search_range)):\n",
    "            projected_CT = np.load('ct_estimate/ct_estimate_patchid{}_tx{}_ty{}_tz{}.npy'.format(patch_id,idtheta,idphi))\n",
    "            v = calculate_v(sample_points,v_x,v_y)\n",
    "            E_T = (np.linalg.norm(np.dot((projected_CT,v))))**2\n",
    "            E[idtheta, idphi] += E_T\n",
    "                   \n",
    "    np.save('e_estimate/e_estimate_patchid{}.npy'.format(patch_id),E)\n",
    "                   \n",
    "  "
   ]
  },
  {
   "cell_type": "code",
   "execution_count": 273,
   "metadata": {
    "collapsed": true
   },
   "outputs": [],
   "source": [
    "def calculate_CT_parallel(patch_id):\n",
    "    sample_points = im_patches[:,:,patch_id]\n",
    "    search_range = np.arange(0,np.pi,0.01)\n",
    "    E = np.zeros((np.size(search_range),np.size(search_range)))\n",
    "    for idtheta,theta in enumerate(list(search_range)): #might be parallelised, but no appreciable speed up\n",
    "        for idphi,phi in enumerate(list(search_range)):\n",
    "            x = np.cos(theta)*np.sin(phi)\n",
    "            y = np.sin(theta)*np.sin(phi)\n",
    "            z = np.cos(phi)\n",
    "            T = np.array([[x],[y],[z]])\n",
    "            projected_CT = calculate_projected_CT(sample_points,T) #the time consumer\n",
    "            np.save('ct_estimate/ct_estimate_patchid{}_idtheta{}_idphi{}.npy'.format(patch_id,idtheta,idphi),projected_CT)\n",
    "\n",
    "##some doubts about the calculations of orth - might be wrong##\n",
    "##update - it is - the actual implementation is more time worthy than necessary, remove from cleaned code##\n",
    "def calculate_perp_CT(sample_points, T): #input the presampled sample points - **caution : orth may give errors**\n",
    "    CT = calculate_CT_estimate(sample_points,T)\n",
    "    return linalg.orth(CT)     "
   ]
  },
  {
   "cell_type": "code",
   "execution_count": 267,
   "metadata": {},
   "outputs": [
    {
     "name": "stdout",
     "output_type": "stream",
     "text": [
      "CPU times: user 728 ms, sys: 320 ms, total: 1.05 s\n",
      "Wall time: 6min 34s\n"
     ]
    }
   ],
   "source": [
    "%%time\n",
    "\n",
    "CPU_NUMBER = os.cpu_count()\n",
    "if __name__=='__main__':\n",
    "    pool = Pool(CPU_NUMBER)\n",
    "    params = range(16)\n",
    "    pool.map(calculate_CT_parallel,params)\n"
   ]
  },
  {
   "cell_type": "code",
   "execution_count": 268,
   "metadata": {
    "collapsed": true
   },
   "outputs": [],
   "source": [
    "E = np.zeros((np.size(search_range),np.size(search_range)))\n",
    "\n",
    "for i in range(16):\n",
    "    E_temp = np.load('e_estimate/e_estimate_patchid{}.npy'.format(i))\n",
    "    E = E + E_temp"
   ]
  },
  {
   "cell_type": "code",
   "execution_count": 269,
   "metadata": {},
   "outputs": [
    {
     "name": "stdout",
     "output_type": "stream",
     "text": [
      "[[  7.96326458e-04]\n",
      " [  9.99999366e-01]\n",
      " [  7.96326711e-04]]\n"
     ]
    },
    {
     "data": {
      "image/png": "[encoded data removed]",
      "text/plain": [
       "<matplotlib.figure.Figure at 0x7f1acc09ee10>"
      ]
     },
     "metadata": {},
     "output_type": "display_data"
    }
   ],
   "source": [
    "np.load('E_estimate/E_estimate_patchid{}.npy'.format(2))\n",
    "#plotting residual surfaces\n",
    "%matplotlib inline\n",
    "fig = plt.figure()\n",
    "ax = fig.add_subplot(1,1,1)\n",
    "ax.set_xlabel('theta')\n",
    "ax.set_ylabel('phi')\n",
    "im = ax.imshow(E, cmap=\"jet\",origin = \"lower\")\n",
    "fig.colorbar(im)\n",
    "ax.set_title('Residual function values')\n",
    "idtheta, idphi = np.unravel_index(E.argmin(), E.shape)\n",
    "theta, phi = search_range[idtheta], search_range[idphi]\n",
    "x_final = np.cos(theta)*np.sin(phi)\n",
    "y_final = np.sin(theta)*np.sin(phi)\n",
    "z_final = np.cos(phi)\n",
    "T_final = np.array([[x_final],[y_final],[z_final]])\n",
    "print(T_final)"
   ]
  },
  {
   "cell_type": "code",
   "execution_count": 181,
   "metadata": {},
   "outputs": [
    {
     "name": "stdout",
     "output_type": "stream",
     "text": [
      "[[  7.96326458e-04]\n",
      " [  9.99999366e-01]\n",
      " [  7.96326711e-04]]\n",
      "CPU times: user 1min 35s, sys: 676 ms, total: 1min 36s\n",
      "Wall time: 24.1 s\n"
     ]
    }
   ],
   "source": [
    "%%time\n",
    "## run through all candidate translation directions\n",
    "search_range =np.arange(0,np.pi,0.01)\n",
    "E = np.zeros((np.size(search_range),np.size(search_range)))\n",
    "\n",
    "for idtheta,theta in enumerate(list(search_range)):\n",
    "    for idphi,phi in enumerate(list(search_range)):\n",
    "        x = np.cos(theta)*np.sin(phi)\n",
    "        y = np.sin(theta)*np.sin(phi)\n",
    "        z = np.cos(phi)\n",
    "        T = np.array([[x],[y],[z]])\n",
    "\n",
    "        CT = calculate_CT_estimate(sample_points, T)\n",
    "        v_t = np.vstack((sample_v_x,sample_v_y)).reshape((-1),order='F').reshape(1,2*N) \n",
    "        #not sure where I got (-1) from but hey it works #v is concat of all sample point vels \n",
    "        v = np.transpose(v_t)\n",
    "        CTbar, r = np.linalg.qr(CT)\n",
    "        I = np.identity(2*N)\n",
    "        cc = np.dot(CTbar,np.transpose(CTbar))\n",
    "        E_T = (np.linalg.norm(np.dot((I - cc),v)))**2\n",
    "        E[idtheta,idphi] += E_T\n",
    "\n",
    "        \n",
    "idtheta, idphi = np.unravel_index(E.argmin(), E.shape)\n",
    "theta, phi = search_range[idtheta], search_range[idphi]\n",
    "x_final = np.cos(theta)*np.sin(phi)\n",
    "y_final = np.sin(theta)*np.sin(phi)\n",
    "z_final = np.cos(phi)\n",
    "T_final = np.array([[x_final],[y_final],[z_final]])\n",
    "print(T_final)"
   ]
  },
  {
   "cell_type": "code",
   "execution_count": 233,
   "metadata": {},
   "outputs": [
    {
     "name": "stdout",
     "output_type": "stream",
     "text": [
      "[[ 0.]\n",
      " [ 0.]\n",
      " [ 0.]]\n",
      "CPU times: user 4 ms, sys: 0 ns, total: 4 ms\n",
      "Wall time: 2.93 ms\n"
     ]
    }
   ],
   "source": [
    "%%time\n",
    "#estimating rotation given the translation\n",
    "\n",
    "N = np.shape(sample_points)[0]; #justincase\n",
    "f = 15\n",
    "sum_left = np.zeros([3,3])\n",
    "sum_right = np.zeros([3,1])\n",
    "\n",
    "for time in np.arange(20,21,1):\n",
    "    for i in np.arange(0,N,1):\n",
    "        x,y = sample_points[i,0],sample_points[i,1]\n",
    "\n",
    "        #calculating d\n",
    "        A = np.array([[-f,0,x],[0,-f,y]])\n",
    "        AtimesT = np.dot(A,T)\n",
    "        d = np.array([[AtimesT[1,0]],[-AtimesT[0,0]]])\n",
    "        di = d/linalg.norm(d)\n",
    "\n",
    "        #calculating left term in omega estimate\n",
    "        Bi = np.array([[(x*y)/f, -(f + (x*x)/f), y],[f + (y*y)/f, -(x*y)/f, -x]])\n",
    "        sum_left += np.dot(np.transpose(Bi),np.dot(di,np.dot(np.transpose(di),Bi)))\n",
    "        \n",
    "        #calculating right term in omega estimate\n",
    "        sample_v_x,sample_v_y = v_x[x,y],v_y[x,y]\n",
    "        vi = np.array([[sample_v_x],[sample_v_y]])\n",
    "        sum_right += np.dot(np.transpose(Bi),np.dot(di,np.dot(np.transpose(di),vi)))\n",
    "\n",
    "omega = np.dot(linalg.inv(sum_left),sum_right)\n",
    "print(omega)"
   ]
  },
  {
   "cell_type": "code",
   "execution_count": 229,
   "metadata": {},
   "outputs": [
    {
     "name": "stderr",
     "output_type": "stream",
     "text": [
      "/home/sharbat/anaconda3/lib/python3.5/site-packages/ipykernel_launcher.py:11: RuntimeWarning: invalid value encountered in true_divide\n",
      "  # This is added back by InteractiveShellApp.init_path()\n",
      "/home/sharbat/anaconda3/lib/python3.5/site-packages/ipykernel_launcher.py:12: RuntimeWarning: invalid value encountered in true_divide\n",
      "  if sys.path[0] == '':\n"
     ]
    }
   ],
   "source": [
    "#calculating depth\n",
    "depth_mat0 = np.zeros([x_lim,y_lim])\n",
    "depth_mat1 = np.zeros([x_lim,y_lim])\n",
    "for x in np.arange(0,x_lim,1):\n",
    "    for y in np.arange(0,y_lim,1):\n",
    "        A = np.array([[-f,0,x],[0,-f,y]])\n",
    "        B = np.array([[(x*y)/f, -(f + (x*x)/f), y],[f + (y*y)/f, -(x*y)/f, -x]])\n",
    "        v = np.array([[v_x[x,y]],[v_y[x,y]]])\n",
    "        scaled_AT = v - np.dot(B,omega)\n",
    "        act_AT = np.dot(A,T)\n",
    "        depth0 = (act_AT/scaled_AT)[0]\n",
    "        depth1 = (act_AT/scaled_AT)[1]\n",
    "        depth_mat0[x,y] = depth0\n",
    "        depth_mat1[x,y] = depth1\n"
   ]
  },
  {
   "cell_type": "code",
   "execution_count": 230,
   "metadata": {},
   "outputs": [
    {
     "data": {
      "image/png": "[encoded data removed]",
      "text/plain": [
       "<matplotlib.figure.Figure at 0x7f1acc13d128>"
      ]
     },
     "metadata": {},
     "output_type": "display_data"
    }
   ],
   "source": [
    "#plotting depth\n",
    "%matplotlib inline\n",
    "fig = plt.figure()\n",
    "ax = fig.add_subplot(1,1,1)\n",
    "ax.set_xlabel('x')\n",
    "ax.set_ylabel('y')\n",
    "im = ax.imshow(depth_mat1, cmap=\"jet\",origin = \"lower\")\n",
    "fig.colorbar(im)\n",
    "ax.set_title('Calculated image depth values')\n",
    "plt.savefig('figs/calculated_depth.png', bbox_inches='tight')\n"
   ]
  },
  {
   "cell_type": "code",
   "execution_count": null,
   "metadata": {
    "collapsed": true
   },
   "outputs": [],
   "source": []
  }
 ],
 "metadata": {
  "kernelspec": {
   "display_name": "Python 3",
   "language": "python",
   "name": "python3"
  },
  "language_info": {
   "codemirror_mode": {
    "name": "ipython",
    "version": 3
   },
   "file_extension": ".py",
   "mimetype": "text/x-python",
   "name": "python",
   "nbconvert_exporter": "python",
   "pygments_lexer": "ipython3",
   "version": "3.5.3"
  }
 },
 "nbformat": 4,
 "nbformat_minor": 2
}
